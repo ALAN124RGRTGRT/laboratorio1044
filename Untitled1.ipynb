{
  "nbformat": 4,
  "nbformat_minor": 0,
  "metadata": {
    "colab": {
      "provenance": [],
      "mount_file_id": "1UBEG3eLteqm1hCrXnEBdqotpWkLxOtYb",
      "authorship_tag": "ABX9TyM+0AOV+qGTAjJtUjoBsQSz",
      "include_colab_link": true
    },
    "kernelspec": {
      "name": "python3",
      "display_name": "Python 3"
    },
    "language_info": {
      "name": "python"
    }
  },
  "cells": [
    {
      "cell_type": "markdown",
      "metadata": {
        "id": "view-in-github",
        "colab_type": "text"
      },
      "source": [
        "<a href=\"https://colab.research.google.com/github/ALAN124RGRTGRT/laboratorio1044/blob/main/Untitled1.ipynb\" target=\"_parent\"><img src=\"https://colab.research.google.com/assets/colab-badge.svg\" alt=\"Open In Colab\"/></a>"
      ]
    },
    {
      "cell_type": "code",
      "execution_count": 1,
      "metadata": {
        "id": "vPTDsjPPXAUj",
        "colab": {
          "base_uri": "https://localhost:8080/",
          "height": 70
        },
        "outputId": "fe370070-5936-4ab9-898f-3f5f2c3b88f2"
      },
      "outputs": [
        {
          "output_type": "execute_result",
          "data": {
            "text/plain": [
              "'{ \"a\": \"Mozilla\\\\/5.0 (Windows NT 6.1; WOW64) AppleWebKit\\\\/535.11 (KHTML, like Gecko) Chrome\\\\/17.0.963.78 Safari\\\\/535.11\", \"c\": \"US\", \"nk\": 1, \"tz\": \"America\\\\/New_York\", \"gr\": \"MA\", \"g\": \"A6qOVH\", \"h\": \"wfLQtf\", \"l\": \"orofrog\", \"al\": \"en-US,en;q=0.8\", \"hh\": \"1.usa.gov\", \"r\": \"http:\\\\/\\\\/www.facebook.com\\\\/l\\\\/7AQEFzjSi\\\\/1.usa.gov\\\\/wfLQtf\", \"u\": \"http:\\\\/\\\\/www.ncbi.nlm.nih.gov\\\\/pubmed\\\\/22415991\", \"t\": 1331923247, \"hc\": 1331822918, \"cy\": \"Danvers\", \"ll\": [ 42.576698, -70.954903 ] }\\n'"
            ],
            "application/vnd.google.colaboratory.intrinsic+json": {
              "type": "string"
            }
          },
          "metadata": {},
          "execution_count": 1
        }
      ],
      "source": [
        "from os import path\n",
        "from pathlib import Path\n",
        "path = \"/content/drive/MyDrive/conjunto de datos/example (1).txt\"\n",
        "open (path).readline()"
      ]
    },
    {
      "cell_type": "code",
      "source": [
        "import json\n",
        "path = \"/content/drive/MyDrive/conjunto de datos/example (1).txt\"\n",
        "records = [json.loads(line) for line in open(path)]\n"
      ],
      "metadata": {
        "id": "fk2tR7NpZwcK"
      },
      "execution_count": 45,
      "outputs": []
    },
    {
      "cell_type": "code",
      "source": [
        "from pickleshare import time\n",
        "import json\n",
        "path =\"/content/drive/MyDrive/conjunto de datos/example (1).txt\"\n",
        "\n",
        "time_zones = [rec[\"tz\"] for rec in records if \"tz\" in rec]\n",
        "\n",
        "def get_counts(sequence):\n",
        "  counts = {}\n",
        "  for x in sequence:\n",
        "    if x in counts:\n",
        "      counts [x]+=1\n",
        "    else:\n",
        "        counts [x]=1\n",
        "    return counts"
      ],
      "metadata": {
        "id": "m_2hcyqIbwYJ"
      },
      "execution_count": 33,
      "outputs": []
    },
    {
      "cell_type": "code",
      "source": [
        "import json\n",
        "import numpy as np\n",
        "from pandas import DataFrame, Series\n",
        "\n",
        "records = [json.loads(line) for line in open(path)]\n",
        "\n",
        "path = \"/content/drive/MyDrive/Conjunto de datos/example.txt\"\n",
        "frame = DataFrame(records)\n",
        "\n",
        "cframe = frame[frame.a.notnull()]\n",
        "operating_system = np.where(cframe['a'].str.contains('Windows'), 'Windows', 'Not Windows')\n",
        "operating_system[:5]"
      ],
      "metadata": {
        "colab": {
          "base_uri": "https://localhost:8080/"
        },
        "id": "8-tD0lCLqsc-",
        "outputId": "27940a4b-b5b5-42eb-c05d-e36636c5b563"
      },
      "execution_count": 60,
      "outputs": [
        {
          "output_type": "execute_result",
          "data": {
            "text/plain": [
              "array(['Windows', 'Not Windows', 'Windows', 'Not Windows', 'Windows'],\n",
              "      dtype='<U11')"
            ]
          },
          "metadata": {},
          "execution_count": 60
        }
      ]
    },
    {
      "cell_type": "code",
      "source": [
        "\n",
        "In [289]: from pandas import DataFrame, Series\n",
        "In [290]: import pandas as pd\n",
        "In [291]: frame = DataFrame(records)\n",
        "In [292]: frame\n",
        "Out[292]:\n",
        "<class 'pandas.core.frame.DataFrame'>\n",
        "Int64Index: 3560 entries, 0 to 3559\n",
        "Data columns:"
      ],
      "metadata": {
        "colab": {
          "base_uri": "https://localhost:8080/",
          "height": 140
        },
        "id": "K5caksQz0IOf",
        "outputId": "a9326a06-a723-4008-aa74-21eb58c7adfe"
      },
      "execution_count": 61,
      "outputs": [
        {
          "output_type": "error",
          "ename": "SyntaxError",
          "evalue": "ignored",
          "traceback": [
            "\u001b[0;36m  File \u001b[0;32m\"<ipython-input-61-86cd9045f025>\"\u001b[0;36m, line \u001b[0;32m5\u001b[0m\n\u001b[0;31m    Out[292]:\u001b[0m\n\u001b[0m             ^\u001b[0m\n\u001b[0;31mSyntaxError\u001b[0m\u001b[0;31m:\u001b[0m invalid syntax\n"
          ]
        }
      ]
    },
    {
      "cell_type": "code",
      "source": [
        "import json\n",
        "\n",
        "path = \"/content/drive/MyDrive/Conjunto de datos/example.txt\"\n",
        "\n",
        "time_zones = [rec ['tz'] for rec in records if 'tz' in rec]\n",
        "\n",
        "def get_counts(sequence):\n",
        "  counts={}\n",
        "  for x in sequence:\n",
        "    if x in counts:\n",
        "      counts [x]+=1\n",
        "    else:\n",
        "        counts [x]=1\n",
        "        return counts\n",
        "\n",
        "\n",
        "from collections import defaultdict\n",
        "def get_counts2(sequence):\n",
        "  counts=defaultdict(int)\n",
        "  for x in sequence:\n",
        "    if x in counts:\n",
        "      counts [x]+=1\n",
        "  return counts\n",
        "\n",
        "counts = get_counts(time_zones)\n",
        "counts['America/New_York']"
      ],
      "metadata": {
        "colab": {
          "base_uri": "https://localhost:8080/"
        },
        "id": "L4UuNjq-tz8N",
        "outputId": "86d42329-998e-4225-ba55-67018246b03b"
      },
      "execution_count": 50,
      "outputs": [
        {
          "output_type": "execute_result",
          "data": {
            "text/plain": [
              "1"
            ]
          },
          "metadata": {},
          "execution_count": 50
        }
      ]
    },
    {
      "cell_type": "code",
      "source": [
        "import json\n",
        "\n",
        "path = \"/content/drive/MyDrive/Conjunto de datos/example.txt\"\n",
        "\n",
        "time_zones = [rec['tz'] for rec in records if 'tz' in rec]\n",
        "counts = get_counts(time_zones)\n",
        "from collections import Counter\n",
        "counts = Counter(time_zones)\n",
        "counts.most_common(10)"
      ],
      "metadata": {
        "colab": {
          "base_uri": "https://localhost:8080/"
        },
        "id": "R6ry5oUOu41u",
        "outputId": "023a5f8e-13ae-427e-f546-6e63fa44f969"
      },
      "execution_count": 55,
      "outputs": [
        {
          "output_type": "execute_result",
          "data": {
            "text/plain": [
              "[('America/New_York', 1251),\n",
              " ('', 521),\n",
              " ('America/Chicago', 400),\n",
              " ('America/Los_Angeles', 382),\n",
              " ('America/Denver', 191),\n",
              " ('Europe/London', 74),\n",
              " ('Asia/Tokyo', 37),\n",
              " ('Pacific/Honolulu', 36),\n",
              " ('Europe/Madrid', 35),\n",
              " ('America/Sao_Paulo', 33)]"
            ]
          },
          "metadata": {},
          "execution_count": 55
        }
      ]
    },
    {
      "cell_type": "code",
      "source": [
        "import json\n",
        "\n",
        "path = \"/content/drive/MyDrive/Conjunto de datos/example.txt\"\n",
        "\n",
        "time_zones = [rec['tz'] for rec in records if 'tz' in rec]\n",
        "counts = get_counts(time_zones)\n",
        "from collections import Counter\n",
        "counts = Counter(time_zones)\n",
        "counts.most_common(10)\n",
        "In [19]: records[0]['tz']\n",
        "Out[19]: u'America/New_York'\n"
      ],
      "metadata": {
        "id": "v5fqNQ04xGl3"
      },
      "execution_count": 51,
      "outputs": []
    },
    {
      "cell_type": "code",
      "source": [
        "import json\n",
        "path = \"/content/drive/MyDrive/conjunto de datos/example (1).txt\"\n",
        "records = [json.loads(line) for line in open(path)]\n",
        "In [19]: records[0]['tz']\n",
        "Out[19]: u'America/New_York'\n",
        "time_zones = [rec['tz'] for rec in records if 'tz' in rec]\n",
        "counts = get_counts(time_zones)\n",
        "from collections import Counter\n",
        "counts = Counter(time_zones)\n",
        "counts.most_common(10)\n",
        "In [19]: records[0]['tz']\n",
        "Out[19]: u'America/New_York'\n"
      ],
      "metadata": {
        "id": "lgFUhltkxN-2"
      },
      "execution_count": 54,
      "outputs": []
    },
    {
      "cell_type": "code",
      "source": [
        "In [19]: records[0]['tz']\n",
        "Out[19]: u'America/New_York'\n"
      ],
      "metadata": {
        "id": "LZtBoMSxkFyb"
      },
      "execution_count": 57,
      "outputs": []
    }
  ]
}